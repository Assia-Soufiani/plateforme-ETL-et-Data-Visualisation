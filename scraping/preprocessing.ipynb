{
 "cells": [
  {
   "cell_type": "code",
   "execution_count": 31,
   "id": "83d7566c",
   "metadata": {},
   "outputs": [],
   "source": [
    "import pandas as pd"
   ]
  },
  {
   "cell_type": "code",
   "execution_count": 32,
   "id": "a466659d",
   "metadata": {},
   "outputs": [],
   "source": [
    "df = pd.read_csv(\"C:/Users/SOUFIANI Assia/Desktop/resultats.csv\")"
   ]
  },
  {
   "cell_type": "code",
   "execution_count": 33,
   "id": "f08cbd92",
   "metadata": {},
   "outputs": [
    {
     "data": {
      "text/html": [
       "<div>\n",
       "<style scoped>\n",
       "    .dataframe tbody tr th:only-of-type {\n",
       "        vertical-align: middle;\n",
       "    }\n",
       "\n",
       "    .dataframe tbody tr th {\n",
       "        vertical-align: top;\n",
       "    }\n",
       "\n",
       "    .dataframe thead th {\n",
       "        text-align: right;\n",
       "    }\n",
       "</style>\n",
       "<table border=\"1\" class=\"dataframe\">\n",
       "  <thead>\n",
       "    <tr style=\"text-align: right;\">\n",
       "      <th></th>\n",
       "      <th>Description</th>\n",
       "      <th>Price</th>\n",
       "      <th>Rating</th>\n",
       "      <th>ReviewCount</th>\n",
       "      <th>Url</th>\n",
       "    </tr>\n",
       "  </thead>\n",
       "  <tbody>\n",
       "    <tr>\n",
       "      <th>455</th>\n",
       "      <td>USB C Hub-YOCOWOCO Dongle USB C Adapter for Ma...</td>\n",
       "      <td>$16.99</td>\n",
       "      <td>NaN</td>\n",
       "      <td>NaN</td>\n",
       "      <td>https://www.amazon.com/gp/slredirect/picassoRe...</td>\n",
       "    </tr>\n",
       "    <tr>\n",
       "      <th>456</th>\n",
       "      <td>SAMSUNG 15.6” Galaxy Book2 Pro Laptop Computer...</td>\n",
       "      <td>$1,349.99</td>\n",
       "      <td>NaN</td>\n",
       "      <td>NaN</td>\n",
       "      <td>https://www.amazon.com/gp/slredirect/picassoRe...</td>\n",
       "    </tr>\n",
       "    <tr>\n",
       "      <th>457</th>\n",
       "      <td>Vanja 5 in 1 SD Card Reader USB Hub 3.0, USB 3...</td>\n",
       "      <td>$10.99</td>\n",
       "      <td>NaN</td>\n",
       "      <td>NaN</td>\n",
       "      <td>https://www.amazon.com/gp/slredirect/picassoRe...</td>\n",
       "    </tr>\n",
       "    <tr>\n",
       "      <th>458</th>\n",
       "      <td>Packard Bell CloudBook 10.1 inch Windows 2 in ...</td>\n",
       "      <td>$169.99</td>\n",
       "      <td>NaN</td>\n",
       "      <td>NaN</td>\n",
       "      <td>https://www.amazon.com/gp/slredirect/picassoRe...</td>\n",
       "    </tr>\n",
       "    <tr>\n",
       "      <th>459</th>\n",
       "      <td>2021 Newest Lenovo IdeaPad Laptop, 15.6\" HD To...</td>\n",
       "      <td>$569.00</td>\n",
       "      <td>NaN</td>\n",
       "      <td>NaN</td>\n",
       "      <td>https://www.amazon.com/gp/slredirect/picassoRe...</td>\n",
       "    </tr>\n",
       "  </tbody>\n",
       "</table>\n",
       "</div>"
      ],
      "text/plain": [
       "                                           Description      Price  Rating  \\\n",
       "455  USB C Hub-YOCOWOCO Dongle USB C Adapter for Ma...     $16.99     NaN   \n",
       "456  SAMSUNG 15.6” Galaxy Book2 Pro Laptop Computer...  $1,349.99     NaN   \n",
       "457  Vanja 5 in 1 SD Card Reader USB Hub 3.0, USB 3...     $10.99     NaN   \n",
       "458  Packard Bell CloudBook 10.1 inch Windows 2 in ...    $169.99     NaN   \n",
       "459  2021 Newest Lenovo IdeaPad Laptop, 15.6\" HD To...    $569.00     NaN   \n",
       "\n",
       "     ReviewCount                                                Url  \n",
       "455          NaN  https://www.amazon.com/gp/slredirect/picassoRe...  \n",
       "456          NaN  https://www.amazon.com/gp/slredirect/picassoRe...  \n",
       "457          NaN  https://www.amazon.com/gp/slredirect/picassoRe...  \n",
       "458          NaN  https://www.amazon.com/gp/slredirect/picassoRe...  \n",
       "459          NaN  https://www.amazon.com/gp/slredirect/picassoRe...  "
      ]
     },
     "execution_count": 33,
     "metadata": {},
     "output_type": "execute_result"
    }
   ],
   "source": [
    "df.tail()"
   ]
  },
  {
   "cell_type": "code",
   "execution_count": 34,
   "id": "db277b5b",
   "metadata": {},
   "outputs": [
    {
     "data": {
      "text/plain": [
       "(460, 5)"
      ]
     },
     "execution_count": 34,
     "metadata": {},
     "output_type": "execute_result"
    }
   ],
   "source": [
    "df.shape"
   ]
  },
  {
   "cell_type": "code",
   "execution_count": 35,
   "id": "d5d1d85a",
   "metadata": {},
   "outputs": [
    {
     "data": {
      "text/plain": [
       "Description      0\n",
       "Price            0\n",
       "Rating         460\n",
       "ReviewCount    460\n",
       "Url              0\n",
       "dtype: int64"
      ]
     },
     "execution_count": 35,
     "metadata": {},
     "output_type": "execute_result"
    }
   ],
   "source": [
    "df.isnull().sum()"
   ]
  },
  {
   "cell_type": "code",
   "execution_count": 36,
   "id": "e1b77e3c",
   "metadata": {},
   "outputs": [],
   "source": [
    "del df['Rating']"
   ]
  },
  {
   "cell_type": "code",
   "execution_count": 37,
   "id": "e74b8add",
   "metadata": {},
   "outputs": [],
   "source": [
    "del df['ReviewCount']"
   ]
  },
  {
   "cell_type": "code",
   "execution_count": 38,
   "id": "2501e6d9",
   "metadata": {},
   "outputs": [
    {
     "data": {
      "text/html": [
       "<div>\n",
       "<style scoped>\n",
       "    .dataframe tbody tr th:only-of-type {\n",
       "        vertical-align: middle;\n",
       "    }\n",
       "\n",
       "    .dataframe tbody tr th {\n",
       "        vertical-align: top;\n",
       "    }\n",
       "\n",
       "    .dataframe thead th {\n",
       "        text-align: right;\n",
       "    }\n",
       "</style>\n",
       "<table border=\"1\" class=\"dataframe\">\n",
       "  <thead>\n",
       "    <tr style=\"text-align: right;\">\n",
       "      <th></th>\n",
       "      <th>Description</th>\n",
       "      <th>Price</th>\n",
       "      <th>Url</th>\n",
       "    </tr>\n",
       "  </thead>\n",
       "  <tbody>\n",
       "    <tr>\n",
       "      <th>0</th>\n",
       "      <td>SGIN Laptop 15.6 Inch, 12GB DDR4 512GB SSD Win...</td>\n",
       "      <td>$499.99</td>\n",
       "      <td>https://www.amazon.com/gp/slredirect/picassoRe...</td>\n",
       "    </tr>\n",
       "    <tr>\n",
       "      <th>1</th>\n",
       "      <td>SGIN Laptop 15.6 Inch 12GB DDR4 512GB SSD, Win...</td>\n",
       "      <td>$419.99</td>\n",
       "      <td>https://www.amazon.com/gp/slredirect/picassoRe...</td>\n",
       "    </tr>\n",
       "    <tr>\n",
       "      <th>2</th>\n",
       "      <td>ASUS ProArt StudioBook Pro 16 OLED Laptop, 16”...</td>\n",
       "      <td>$4,999.99</td>\n",
       "      <td>https://www.amazon.com/ASUS-StudioBook-3840x24...</td>\n",
       "    </tr>\n",
       "    <tr>\n",
       "      <th>3</th>\n",
       "      <td>2022 Newest HP 15.6\" HD Laptop Computer, Intel...</td>\n",
       "      <td>$349.00</td>\n",
       "      <td>https://www.amazon.com/HP-Laptop-Computer-Quad...</td>\n",
       "    </tr>\n",
       "    <tr>\n",
       "      <th>4</th>\n",
       "      <td>MSI Raider GE66 15.6\" UHD 4K 120Hz Gaming Lapt...</td>\n",
       "      <td>$3,799.00</td>\n",
       "      <td>https://www.amazon.com/MSI-Raider-GE66-i9-1290...</td>\n",
       "    </tr>\n",
       "    <tr>\n",
       "      <th>...</th>\n",
       "      <td>...</td>\n",
       "      <td>...</td>\n",
       "      <td>...</td>\n",
       "    </tr>\n",
       "    <tr>\n",
       "      <th>455</th>\n",
       "      <td>USB C Hub-YOCOWOCO Dongle USB C Adapter for Ma...</td>\n",
       "      <td>$16.99</td>\n",
       "      <td>https://www.amazon.com/gp/slredirect/picassoRe...</td>\n",
       "    </tr>\n",
       "    <tr>\n",
       "      <th>456</th>\n",
       "      <td>SAMSUNG 15.6” Galaxy Book2 Pro Laptop Computer...</td>\n",
       "      <td>$1,349.99</td>\n",
       "      <td>https://www.amazon.com/gp/slredirect/picassoRe...</td>\n",
       "    </tr>\n",
       "    <tr>\n",
       "      <th>457</th>\n",
       "      <td>Vanja 5 in 1 SD Card Reader USB Hub 3.0, USB 3...</td>\n",
       "      <td>$10.99</td>\n",
       "      <td>https://www.amazon.com/gp/slredirect/picassoRe...</td>\n",
       "    </tr>\n",
       "    <tr>\n",
       "      <th>458</th>\n",
       "      <td>Packard Bell CloudBook 10.1 inch Windows 2 in ...</td>\n",
       "      <td>$169.99</td>\n",
       "      <td>https://www.amazon.com/gp/slredirect/picassoRe...</td>\n",
       "    </tr>\n",
       "    <tr>\n",
       "      <th>459</th>\n",
       "      <td>2021 Newest Lenovo IdeaPad Laptop, 15.6\" HD To...</td>\n",
       "      <td>$569.00</td>\n",
       "      <td>https://www.amazon.com/gp/slredirect/picassoRe...</td>\n",
       "    </tr>\n",
       "  </tbody>\n",
       "</table>\n",
       "<p>460 rows × 3 columns</p>\n",
       "</div>"
      ],
      "text/plain": [
       "                                           Description      Price  \\\n",
       "0    SGIN Laptop 15.6 Inch, 12GB DDR4 512GB SSD Win...    $499.99   \n",
       "1    SGIN Laptop 15.6 Inch 12GB DDR4 512GB SSD, Win...    $419.99   \n",
       "2    ASUS ProArt StudioBook Pro 16 OLED Laptop, 16”...  $4,999.99   \n",
       "3    2022 Newest HP 15.6\" HD Laptop Computer, Intel...    $349.00   \n",
       "4    MSI Raider GE66 15.6\" UHD 4K 120Hz Gaming Lapt...  $3,799.00   \n",
       "..                                                 ...        ...   \n",
       "455  USB C Hub-YOCOWOCO Dongle USB C Adapter for Ma...     $16.99   \n",
       "456  SAMSUNG 15.6” Galaxy Book2 Pro Laptop Computer...  $1,349.99   \n",
       "457  Vanja 5 in 1 SD Card Reader USB Hub 3.0, USB 3...     $10.99   \n",
       "458  Packard Bell CloudBook 10.1 inch Windows 2 in ...    $169.99   \n",
       "459  2021 Newest Lenovo IdeaPad Laptop, 15.6\" HD To...    $569.00   \n",
       "\n",
       "                                                   Url  \n",
       "0    https://www.amazon.com/gp/slredirect/picassoRe...  \n",
       "1    https://www.amazon.com/gp/slredirect/picassoRe...  \n",
       "2    https://www.amazon.com/ASUS-StudioBook-3840x24...  \n",
       "3    https://www.amazon.com/HP-Laptop-Computer-Quad...  \n",
       "4    https://www.amazon.com/MSI-Raider-GE66-i9-1290...  \n",
       "..                                                 ...  \n",
       "455  https://www.amazon.com/gp/slredirect/picassoRe...  \n",
       "456  https://www.amazon.com/gp/slredirect/picassoRe...  \n",
       "457  https://www.amazon.com/gp/slredirect/picassoRe...  \n",
       "458  https://www.amazon.com/gp/slredirect/picassoRe...  \n",
       "459  https://www.amazon.com/gp/slredirect/picassoRe...  \n",
       "\n",
       "[460 rows x 3 columns]"
      ]
     },
     "execution_count": 38,
     "metadata": {},
     "output_type": "execute_result"
    }
   ],
   "source": [
    "df"
   ]
  },
  {
   "cell_type": "code",
   "execution_count": 30,
   "id": "18f615d7",
   "metadata": {},
   "outputs": [
    {
     "data": {
      "text/plain": [
       "Description    0\n",
       "Price          0\n",
       "Url            0\n",
       "dtype: int64"
      ]
     },
     "execution_count": 30,
     "metadata": {},
     "output_type": "execute_result"
    }
   ],
   "source": [
    "df.isnull().sum()"
   ]
  },
  {
   "cell_type": "code",
   "execution_count": 39,
   "id": "4a85d769",
   "metadata": {},
   "outputs": [
    {
     "data": {
      "text/plain": [
       "0      SGIN Laptop 15.6 Inch, 12GB DDR4 512GB SSD Win...\n",
       "1      SGIN Laptop 15.6 Inch 12GB DDR4 512GB SSD, Win...\n",
       "2      ASUS ProArt StudioBook Pro 16 OLED Laptop, 16”...\n",
       "3      2022 Newest HP 15.6\" HD Laptop Computer, Intel...\n",
       "4      MSI Raider GE66 15.6\" UHD 4K 120Hz Gaming Lapt...\n",
       "                             ...                        \n",
       "455    USB C Hub-YOCOWOCO Dongle USB C Adapter for Ma...\n",
       "456    SAMSUNG 15.6” Galaxy Book2 Pro Laptop Computer...\n",
       "457    Vanja 5 in 1 SD Card Reader USB Hub 3.0, USB 3...\n",
       "458    Packard Bell CloudBook 10.1 inch Windows 2 in ...\n",
       "459    2021 Newest Lenovo IdeaPad Laptop, 15.6\" HD To...\n",
       "Name: Description, Length: 460, dtype: object"
      ]
     },
     "execution_count": 39,
     "metadata": {},
     "output_type": "execute_result"
    }
   ],
   "source": [
    "df['Description']"
   ]
  },
  {
   "cell_type": "code",
   "execution_count": null,
   "id": "1e32f80d",
   "metadata": {},
   "outputs": [],
   "source": []
  }
 ],
 "metadata": {
  "kernelspec": {
   "display_name": "Python 3 (ipykernel)",
   "language": "python",
   "name": "python3"
  },
  "language_info": {
   "codemirror_mode": {
    "name": "ipython",
    "version": 3
   },
   "file_extension": ".py",
   "mimetype": "text/x-python",
   "name": "python",
   "nbconvert_exporter": "python",
   "pygments_lexer": "ipython3",
   "version": "3.9.7"
  }
 },
 "nbformat": 4,
 "nbformat_minor": 5
}
